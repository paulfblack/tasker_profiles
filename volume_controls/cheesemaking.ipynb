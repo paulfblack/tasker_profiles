{
 "cells": [
  {
   "cell_type": "code",
   "execution_count": 1,
   "metadata": {},
   "outputs": [],
   "source": [
    "xp_mod = 1.6\n",
    "\n",
    "cheese_dict = {}\n",
    "cheese_dict['provolone_cheese'] = {'level':62, 'first_time_xp':992, 'xp':248,'aged':False, 'ct_needed':1}\n",
    "cheese_dict['esagrion_cheese'] = {'level':63, 'first_time_xp':1008, 'xp':248,'aged':True, 'ct_needed':0}\n",
    "cheese_dict['telemea_cheese'] = {'level':64, 'first_time_xp':1024, 'xp':256,'aged':False, 'ct_needed':0}\n",
    "cheese_dict['camozola_cheese'] = {'level':66, 'first_time_xp':1056, 'xp':264,'aged':True, 'ct_needed':0}\n",
    "cheese_dict['scamorza_cheese'] = {'level':68, 'first_time_xp':1088, 'xp':264,'aged':False, 'ct_needed':0}\n",
    "cheese_dict['halloumi_cheese'] = {'level':70, 'first_time_xp':1120, 'xp':280,'aged':False, 'ct_needed':0}\n",
    "cheese_dict['feta_cheese'] = {'level':72, 'first_time_xp':1152, 'xp':288,'aged':False, 'ct_needed':0}\n",
    "cheese_dict['gouda_cheese'] = {'level':74, 'first_time_xp':1184, 'xp':296,'aged':False, 'ct_needed':0}\n",
    "\n",
    "xp_levels = [14100] * 5 + [17550] * 5\n",
    "\n",
    "running_total = 0\n",
    "for i,e in enumerate(xp_levels):\n",
    "    xp_levels[i] = e + running_total\n",
    "    running_total += e\n",
    "\n",
    "cheese_order = ['provolone_cheese','esagrion_cheese','telemea_cheese','telemea_cheese','telemea_cheese','camozola_cheese',\n",
    "                'scamorza_cheese','scamorza_cheese','camozola_cheese','scamorza_cheese']\n",
    "\n",
    "xp = 0\n",
    "for level, xp_needed in enumerate(xp_levels):\n",
    "    while xp < xp_needed:\n",
    "        if cheese_dict[cheese_order[level]]['ct_needed'] == 0:\n",
    "            xp += cheese_dict[cheese_order[level]]['first_time_xp'] * xp_mod\n",
    "            if cheese_dict[cheese_order[level]]['aged']:\n",
    "                xp += cheese_dict[cheese_order[level]]['xp']\n",
    "            cheese_dict[cheese_order[level]]['ct_needed'] += 1\n",
    "        else:\n",
    "            xp += cheese_dict[cheese_order[level]]['xp'] * xp_mod\n",
    "            if cheese_dict[cheese_order[level]]['aged']:\n",
    "                xp += cheese_dict[cheese_order[level]]['xp']\n",
    "            cheese_dict[cheese_order[level]]['ct_needed'] += 1"
   ]
  },
  {
   "cell_type": "code",
   "execution_count": 2,
   "metadata": {},
   "outputs": [
    {
     "name": "stdout",
     "output_type": "stream",
     "text": [
      "provolone_cheese 37\n",
      "esagrion_cheese 20\n",
      "telemea_cheese 100\n",
      "camozola_cheese 50\n",
      "scamorza_cheese 121\n",
      "halloumi_cheese 0\n",
      "feta_cheese 0\n",
      "gouda_cheese 0\n"
     ]
    }
   ],
   "source": [
    "final_counts = {}\n",
    "for k, v in cheese_dict.items():\n",
    "    final_counts[k] = v['ct_needed']\n",
    "    print(k, v['ct_needed'])"
   ]
  },
  {
   "cell_type": "code",
   "execution_count": 3,
   "metadata": {
    "collapsed": true
   },
   "outputs": [],
   "source": [
    "# final_counts = {\n",
    "#     'provolone_cheese':82,\n",
    "#     'esagrion_cheese':3,\n",
    "#     'telemea_cheese':167,\n",
    "#     'camozola_cheese':3,\n",
    "#     'scamorza_cheese': 99,\n",
    "#     'halloumi_cheese':94\n",
    "# }"
   ]
  },
  {
   "cell_type": "code",
   "execution_count": 4,
   "metadata": {
    "collapsed": true
   },
   "outputs": [],
   "source": [
    "recipe_dict = {}\n",
    "recipe_dict['provolone_cheese'] = {'bottle_of_milk':2,'botle_of_whey':2, 'strong_rennet':1, 'kilderkin':0.15,'fine_cheesecloth':.2}\n",
    "recipe_dict['esagrion_cheese'] = {'bottle_of_milk':3,'pungent_rennet':1, 'butter_muslin':.2, 'kilderkin':0.15}\n",
    "recipe_dict['telemea_cheese'] = {'bottle_of_milk':2, 'bottle_of_water':1, 'strong_rennet':1}\n",
    "recipe_dict['camozola_cheese'] = {'bottle_of_milk':3, 'pungent_rennet':1, 'kilderkin':0.15,'cheesecloth':.2}\n",
    "recipe_dict['scamorza_cheese'] = {'bottle_of_milk':1, 'botle_of_whey':1,'botle_of_sweet_whey':1, 'basic_rennet':1,'kilderkin':0.15, 'fine_cheesecloth':.2}\n",
    "recipe_dict['halloumi_cheese'] = {'bottle_of_milk':2, 'botle_of_whey':2, 'basic_rennet':1,'salt':1, 'kilderkin':0.15, 'fine_cheesecloth':0.2}\n",
    "recipe_dict['feta_cheese'] = {'bottle_of_milk':1, 'bottle_of_whey':2, 'basic_rennet':1,'salt':2, 'kilderkin':0.15, 'fine_cheesecloth':0.2}\n",
    "recipe_dict['gouda_cheese'] = {'bottle_of_milk':2, 'bottle_of_water':1, 'strong_rennet':1,'salt':1, 'kilderkin':0.15, 'voile_muslin':0.2}"
   ]
  },
  {
   "cell_type": "code",
   "execution_count": 5,
   "metadata": {},
   "outputs": [],
   "source": [
    "mats_needed = {}\n",
    "for k,v in final_counts.items():\n",
    "    for k2, v2, in recipe_dict[k].items():\n",
    "        if k2 in mats_needed.keys():\n",
    "            mats_needed[k2] += v2 * v\n",
    "        else:\n",
    "            mats_needed[k2] = v2 * v"
   ]
  },
  {
   "cell_type": "code",
   "execution_count": 6,
   "metadata": {
    "collapsed": true
   },
   "outputs": [],
   "source": [
    "import numpy as np"
   ]
  },
  {
   "cell_type": "code",
   "execution_count": 7,
   "metadata": {
    "collapsed": true
   },
   "outputs": [],
   "source": [
    "mats_needed\n",
    "for k,v in mats_needed.items():\n",
    "    mats_needed[k] = np.ceil(v)\n",
    "mats_needed_top = mats_needed.copy()"
   ]
  },
  {
   "cell_type": "code",
   "execution_count": 8,
   "metadata": {
    "collapsed": true
   },
   "outputs": [],
   "source": [
    "sub_mats = {\n",
    "    'kilderkin':{'oak_wood':3,'quarter_hoop':2,'medium_hoop':1},\n",
    "    'pungent_rennet':{'stomach':0.5,'blood_mushroom_suspension':1,'salt':0.5},\n",
    "    'strong_rennet':{'stomach':0.5,'field_mushroom_suspension':1,'salt':0.5},\n",
    "    'fine_cheesecloth':{'fine_cotton_yarn':1,'cotton_thread':1},\n",
    "    'cheesecloth':{'fine_cotton_yarn':1,'cotton':1},\n",
    "    'butter_muslin':{'coarse_cotton_yarn':1,'cotton':1},\n",
    "    'basic_rennet':{'stomach':0.5,'mycena_mushroom_suspension':1,'salt':0.5},\n",
    "    'blood_mushroom_suspension':{'blood_mushroom_powder':2, 'bottle_of_water':1},\n",
    "    'field_mushroom_suspension':{'field_mushroom_powder':2, 'bottle_of_water':1},\n",
    "    'mycena_mushroom_suspension':{'mycena_mushroom_powder':2, 'bottle_of_water':1},\n",
    "    'cotton_thread':{'fine_cotton_yarn':.25,'spiderweb':.25,'perfect_cotton':.25},\n",
    "    'coarse_cotton_yarn':{'carded_cotton':.5},\n",
    "    'fine_cotton_yarn':{'carded_cotton':.5,'perfect_cotton':.5},\n",
    "    'quarter_hoop':{'simple_metal_slab':1},\n",
    "    'medium_hoop':{'basic_metal_slab':1},\n",
    "    'carded_cotton':{'cotton':4},\n",
    "    'blood_mushroom_powder':{'blood_mushroom':2,'salt':1,'mycena_mushroom_powder':1,'salt':1},\n",
    "    'field_mushroom_powder':{'field_mushroom':2,'salt':1},\n",
    "    'mycena_mushroom_powder':{'mycena_mushroom':2,'salt':1}\n",
    "}"
   ]
  },
  {
   "cell_type": "code",
   "execution_count": 9,
   "metadata": {
    "collapsed": true
   },
   "outputs": [],
   "source": [
    "finished = False\n",
    "high_tier_mats = {}\n",
    "while not finished:\n",
    "    pop_list = []\n",
    "    mats_needed_temp = mats_needed.copy()\n",
    "    for k,v in mats_needed_temp.items():\n",
    "        if k in sub_mats.keys():\n",
    "            for k2,v2 in sub_mats[k].items():\n",
    "                if k2 in mats_needed.keys():\n",
    "                    mats_needed[k2] += v2 * v\n",
    "                else:\n",
    "                    mats_needed[k2] = v2 * v\n",
    "            pop_list.append(k)\n",
    "\n",
    "    for item in pop_list:\n",
    "        high_tier_mats[item] = mats_needed[item]\n",
    "        mats_needed.pop(item)\n",
    "    if mats_needed_temp.keys() == mats_needed.keys():\n",
    "        finished = True\n",
    "    mats_needed_temp = mats_needed.copy()"
   ]
  },
  {
   "cell_type": "code",
   "execution_count": 10,
   "metadata": {},
   "outputs": [
    {
     "data": {
      "text/plain": [
       "{'basic_metal_slab': 35.0,\n",
       " 'blood_mushroom': 280.0,\n",
       " 'botle_of_sweet_whey': 121.0,\n",
       " 'botle_of_whey': 195.0,\n",
       " 'bottle_of_milk': 605.0,\n",
       " 'bottle_of_water': 428.0,\n",
       " 'bottle_of_whey': 0.0,\n",
       " 'cotton': 106.0,\n",
       " 'field_mushroom': 548.0,\n",
       " 'mycena_mushroom': 484.0,\n",
       " 'oak_wood': 105.0,\n",
       " 'perfect_cotton': 29.0,\n",
       " 'salt': 820.0,\n",
       " 'simple_metal_slab': 70.0,\n",
       " 'spiderweb': 8.0,\n",
       " 'stomach': 164.0,\n",
       " 'voile_muslin': 0.0}"
      ]
     },
     "execution_count": 10,
     "metadata": {},
     "output_type": "execute_result"
    }
   ],
   "source": [
    "mats_needed_temp"
   ]
  },
  {
   "cell_type": "code",
   "execution_count": 13,
   "metadata": {},
   "outputs": [
    {
     "data": {
      "text/plain": [
       "{'basic_rennet': 121.0,\n",
       " 'blood_mushroom_powder': 140.0,\n",
       " 'blood_mushroom_suspension': 70.0,\n",
       " 'butter_muslin': 4.0,\n",
       " 'carded_cotton': 23.0,\n",
       " 'cheesecloth': 10.0,\n",
       " 'coarse_cotton_yarn': 4.0,\n",
       " 'cotton_thread': 32.0,\n",
       " 'field_mushroom_powder': 274.0,\n",
       " 'field_mushroom_suspension': 137.0,\n",
       " 'fine_cheesecloth': 32.0,\n",
       " 'fine_cotton_yarn': 50.0,\n",
       " 'kilderkin': 35.0,\n",
       " 'medium_hoop': 35.0,\n",
       " 'mycena_mushroom_powder': 382.0,\n",
       " 'mycena_mushroom_suspension': 121.0,\n",
       " 'pungent_rennet': 70.0,\n",
       " 'quarter_hoop': 70.0,\n",
       " 'strong_rennet': 137.0}"
      ]
     },
     "execution_count": 13,
     "metadata": {},
     "output_type": "execute_result"
    }
   ],
   "source": [
    "high_tier_mats"
   ]
  },
  {
   "cell_type": "code",
   "execution_count": 12,
   "metadata": {},
   "outputs": [
    {
     "data": {
      "text/plain": [
       "{'basic_metal_slab': 35.0,\n",
       " 'blood_mushroom': 280.0,\n",
       " 'botle_of_sweet_whey': 121.0,\n",
       " 'botle_of_whey': 195.0,\n",
       " 'bottle_of_milk': 605.0,\n",
       " 'bottle_of_water': 428.0,\n",
       " 'bottle_of_whey': 0.0,\n",
       " 'cotton': 106.0,\n",
       " 'field_mushroom': 548.0,\n",
       " 'mycena_mushroom': 484.0,\n",
       " 'oak_wood': 105.0,\n",
       " 'perfect_cotton': 29.0,\n",
       " 'salt': 820.0,\n",
       " 'simple_metal_slab': 70.0,\n",
       " 'spiderweb': 8.0,\n",
       " 'stomach': 164.0,\n",
       " 'voile_muslin': 0.0}"
      ]
     },
     "execution_count": 12,
     "metadata": {},
     "output_type": "execute_result"
    }
   ],
   "source": [
    "mats_needed"
   ]
  },
  {
   "cell_type": "code",
   "execution_count": 13,
   "metadata": {
    "collapsed": true
   },
   "outputs": [],
   "source": [
    "unfold_1_level(mats_needed, sub_mats_1)"
   ]
  },
  {
   "cell_type": "code",
   "execution_count": 14,
   "metadata": {},
   "outputs": [
    {
     "data": {
      "text/plain": [
       "{'blood_mushroom_suspension': 6.0,\n",
       " 'botle_of_sweet_whey': 99.0,\n",
       " 'botle_of_whey': 451.0,\n",
       " 'bottle_of_milk': 803.0,\n",
       " 'bottle_of_water': 167.0,\n",
       " 'coarse_cotton_yarn': 1.0,\n",
       " 'cotton': 2.0,\n",
       " 'cotton_thread': 55.0,\n",
       " 'field_mushroom_suspension': 249.0,\n",
       " 'fine_cotton_yarn': 56.0,\n",
       " 'medium_hoop': 43.0,\n",
       " 'mycena_mushroom_suspension': 193.0,\n",
       " 'oak_wood': 129.0,\n",
       " 'quarter_hoop': 86.0,\n",
       " 'salt': 318.0,\n",
       " 'stomach': 224.0}"
      ]
     },
     "execution_count": 14,
     "metadata": {},
     "output_type": "execute_result"
    }
   ],
   "source": [
    "mats_needed"
   ]
  },
  {
   "cell_type": "code",
   "execution_count": null,
   "metadata": {
    "collapsed": true
   },
   "outputs": [],
   "source": [
    "sub_mats_2 = {\n",
    "}"
   ]
  },
  {
   "cell_type": "code",
   "execution_count": null,
   "metadata": {
    "collapsed": true
   },
   "outputs": [],
   "source": [
    "unfold_1_level(mats_needed, sub_mats_1)"
   ]
  }
 ],
 "metadata": {
  "kernelspec": {
   "display_name": "Python 3",
   "language": "python",
   "name": "python3"
  },
  "language_info": {
   "codemirror_mode": {
    "name": "ipython",
    "version": 3
   },
   "file_extension": ".py",
   "mimetype": "text/x-python",
   "name": "python",
   "nbconvert_exporter": "python",
   "pygments_lexer": "ipython3",
   "version": "3.6.1"
  }
 },
 "nbformat": 4,
 "nbformat_minor": 2
}
